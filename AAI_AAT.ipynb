{
  "nbformat": 4,
  "nbformat_minor": 0,
  "metadata": {
    "colab": {
      "provenance": []
    },
    "kernelspec": {
      "name": "python3",
      "display_name": "Python 3"
    },
    "language_info": {
      "name": "python"
    }
  },
  "cells": [
    {
      "cell_type": "code",
      "execution_count": 1,
      "metadata": {
        "colab": {
          "base_uri": "https://localhost:8080/"
        },
        "id": "-5wFBatInpB1",
        "outputId": "1ac00d04-cac1-47cc-a7fc-a45a72c6191c"
      },
      "outputs": [
        {
          "output_type": "stream",
          "name": "stdout",
          "text": [
            "Looking in indexes: https://pypi.org/simple, https://us-python.pkg.dev/colab-wheels/public/simple/\n",
            "Collecting ortools\n",
            "  Downloading ortools-9.6.2534-cp310-cp310-manylinux_2_17_x86_64.manylinux2014_x86_64.whl (16.4 MB)\n",
            "\u001b[2K     \u001b[90m━━━━━━━━━━━━━━━━━━━━━━━━━━━━━━━━━━━━━━━━\u001b[0m \u001b[32m16.4/16.4 MB\u001b[0m \u001b[31m82.7 MB/s\u001b[0m eta \u001b[36m0:00:00\u001b[0m\n",
            "\u001b[?25hRequirement already satisfied: absl-py>=0.13 in /usr/local/lib/python3.10/dist-packages (from ortools) (1.4.0)\n",
            "Requirement already satisfied: numpy>=1.13.3 in /usr/local/lib/python3.10/dist-packages (from ortools) (1.22.4)\n",
            "Collecting protobuf>=4.21.12 (from ortools)\n",
            "  Downloading protobuf-4.23.3-cp37-abi3-manylinux2014_x86_64.whl (304 kB)\n",
            "\u001b[2K     \u001b[90m━━━━━━━━━━━━━━━━━━━━━━━━━━━━━━━━━━━━━━\u001b[0m \u001b[32m304.5/304.5 kB\u001b[0m \u001b[31m25.4 MB/s\u001b[0m eta \u001b[36m0:00:00\u001b[0m\n",
            "\u001b[?25hRequirement already satisfied: scipy>=1.10.0 in /usr/local/lib/python3.10/dist-packages (from ortools) (1.10.1)\n",
            "Installing collected packages: protobuf, ortools\n",
            "  Attempting uninstall: protobuf\n",
            "    Found existing installation: protobuf 3.20.3\n",
            "    Uninstalling protobuf-3.20.3:\n",
            "      Successfully uninstalled protobuf-3.20.3\n",
            "Successfully installed ortools-9.6.2534 protobuf-4.23.3\n"
          ]
        }
      ],
      "source": [
        "!pip install ortools"
      ]
    },
    {
      "cell_type": "code",
      "source": [
        "from ortools.constraint_solver import pywrapcp\n",
        "\n",
        "def find_cheap_flights(prices, durations):\n",
        "    num_flights = len(prices)\n",
        "\n",
        "    # Create the solver\n",
        "    solver = pywrapcp.Solver(\"cheap_flights\")\n",
        "\n",
        "    # Create variables\n",
        "    selected_flights = [solver.BoolVar(f'flight_{i}') for i in range(num_flights)]\n",
        "\n",
        "    # Create constraints\n",
        "    solver.Add(solver.Sum(selected_flights) > 0)  # At least one flight should be selected\n",
        "\n",
        "    total_price = solver.Sum(selected_flights[i] * prices[i] for i in range(num_flights))\n",
        "    total_duration = solver.Sum(selected_flights[i] * durations[i] for i in range(num_flights))\n",
        "    solver.Add(total_duration <= 10)  # Total duration should be less than or equal to 10\n",
        "\n",
        "    # Create objective\n",
        "    objective = solver.Minimize(total_price, 1)\n",
        "\n",
        "    db = solver.Phase(selected_flights,\n",
        "                      solver.CHOOSE_FIRST_UNBOUND,\n",
        "                      solver.ASSIGN_MIN_VALUE)\n",
        "\n",
        "    # Create solution collector\n",
        "    solution = solver.Assignment()\n",
        "    solution.Add(selected_flights)\n",
        "    collector = solver.AllSolutionCollector(solution)\n",
        "\n",
        "    # Solve the problem\n",
        "    solver.Solve(db, [objective, collector])\n",
        "\n",
        "    if collector.SolutionCount() > 0:\n",
        "        print(\"Selected Flights:\")\n",
        "        for i in range(collector.SolutionCount()):\n",
        "            selected_flight_indices = [j for j in range(num_flights) if collector.Value(i, selected_flights[j]) == 1]\n",
        "            print(f\"Solution {i + 1}: {selected_flight_indices}\")\n",
        "            print(\"Total Price:\", collector.Value(i, total_price))\n",
        "            print(\"Total Duration:\", collector.Value(i, total_duration))\n",
        "            print()\n",
        "\n",
        "    else:\n",
        "        print(\"No solution found.\")\n",
        "\n",
        "\n",
        "# Example usage\n",
        "prices = [100, 200, 150, 300, 250]\n",
        "durations = [2, 3, 2, 4, 3]\n",
        "\n",
        "find_cheap_flights(prices, durations)"
      ],
      "metadata": {
        "id": "JvOq5QAkntxV"
      },
      "execution_count": null,
      "outputs": []
    },
    {
      "cell_type": "code",
      "source": [
        "from ortools.constraint_solver import pywrapcp\n",
        "\n",
        "def find_cheap_flights(prices, durations):\n",
        "    num_flights = len(prices)"
      ],
      "metadata": {
        "id": "e8FzeHQUpJVL"
      },
      "execution_count": 3,
      "outputs": []
    },
    {
      "cell_type": "code",
      "source": [
        "# Create the solver\n",
        "    solver = pywrapcp.Solver(\"cheap_flights\")\n",
        "\n",
        "    # Create variables\n",
        "    selected_flights = [solver.BoolVar(f'flight_{i}') for i in range(num_flights)]\n",
        "\n",
        "    # Create constraints\n",
        "    solver.Add(solver.Sum(selected_flights) > 0)  # At least one flight should be selected\n",
        "\n",
        "    total_price = solver.Sum(selected_flights[i] * prices[i] for i in range(num_flights))\n",
        "    total_duration = solver.Sum(selected_flights[i] * durations[i] for i in range(num_flights))\n",
        "    solver.Add(total_duration <= 10)  # Total duration should be less than or equal to 10\n",
        "\n",
        "    # Create objective\n",
        "    objective = solver.Minimize(total_price, 1)\n",
        "\n",
        "    db = solver.Phase(selected_flights,\n",
        "                      solver.CHOOSE_FIRST_UNBOUND,\n",
        "                      solver.ASSIGN_MIN_VALUE)\n",
        "\n",
        "    # Create solution collector\n",
        "    solution = solver.Assignment()\n",
        "    solution.Add(selected_flights)\n",
        "    collector = solver.AllSolutionCollector(solution)\n",
        "\n",
        "    # Solve the problem\n",
        "    solver.Solve(db, [objective, collector])"
      ],
      "metadata": {
        "colab": {
          "base_uri": "https://localhost:8080/",
          "height": 133
        },
        "id": "kgP1d2x8pTec",
        "outputId": "146e04a4-64c7-4c63-c5ad-ed3ef772a68c"
      },
      "execution_count": 6,
      "outputs": [
        {
          "output_type": "error",
          "ename": "IndentationError",
          "evalue": "ignored",
          "traceback": [
            "\u001b[0;36m  File \u001b[0;32m\"<ipython-input-6-d1e4545081cb>\"\u001b[0;36m, line \u001b[0;32m2\u001b[0m\n\u001b[0;31m    solver = pywrapcp.Solver(\"cheap_flights\")\u001b[0m\n\u001b[0m    ^\u001b[0m\n\u001b[0;31mIndentationError\u001b[0m\u001b[0;31m:\u001b[0m unexpected indent\n"
          ]
        }
      ]
    },
    {
      "cell_type": "code",
      "source": [
        "from ortools.linear_solver import pywraplp\n",
        "\n",
        "def find_cheap_tickets():\n",
        "    # Create the solver\n",
        "    solver = pywraplp.Solver.CreateSolver('GLOP')\n",
        "\n",
        "    # Variables\n",
        "    flights = ['Flight1', 'Flight2', 'Flight3']  # Example flights\n",
        "    prices = {\n",
        "        'Flight1': [100, 200, 300],\n",
        "        'Flight2': [150, 250, 350],\n",
        "        'Flight3': [200, 300, 400]\n",
        "    }\n",
        "\n",
        "\n",
        "    ticket_vars = {}\n",
        "    for flight in flights:\n",
        "        ticket_vars[flight] = solver.BoolVar(f'{flight}_ticket')\n",
        "\n",
        "    # Set the objective function\n",
        "    objective = solver.Objective()\n",
        "    for flight in flights:\n",
        "        for i, price in enumerate(prices[flight]):\n",
        "            objective.SetCoefficient(ticket_vars[flight], price)\n",
        "\n",
        "    objective.SetMinimization()\n",
        "\n",
        "    for flight in flights:\n",
        "        constraint = solver.Constraint(0, 1)  # Select at most one ticket per flight\n",
        "        constraint.SetCoefficient(ticket_vars[flight], 1)\n",
        "\n",
        "    status = solver.Solve()\n",
        "\n",
        "    if status == pywraplp.Solver.OPTIMAL:\n",
        "        cheapest_price = sum(ticket_vars[flight].solution_value() * min(prices[flight]) for flight in flights)\n",
        "        cheapest_ticket = {flight: min(prices[flight]) for flight in flights if ticket_vars[flight].solution_value() == 1}\n",
        "        return cheapest_price, cheapest_ticket\n",
        "    else:\n",
        "        return None, None\n",
        "\n",
        "cheapest_price, cheapest_ticket = find_cheap_tickets()\n",
        "\n",
        "if cheapest_price is not None:\n",
        "    print(\"Cheapest price:\", cheapest_price)\n",
        "    print(\"Cheapest ticket:\", cheapest_ticket)\n",
        "else:\n",
        "    print(\"No feasible solution found.\")"
      ],
      "metadata": {
        "colab": {
          "base_uri": "https://localhost:8080/"
        },
        "id": "uy9WPOvHpUbz",
        "outputId": "e3c0fbc3-2f85-47fb-c6c8-caf86da45757"
      },
      "execution_count": 1,
      "outputs": [
        {
          "output_type": "stream",
          "name": "stdout",
          "text": [
            "Cheapest price: 0.0\n",
            "Cheapest ticket: {}\n"
          ]
        }
      ]
    },
    {
      "cell_type": "code",
      "source": [
        "from ortools.sat.python import cp_model\n",
        "\n",
        "def find_cheap_flights(prices, durations):\n",
        "    num_flights = len(prices)\n",
        "\n",
        "    # Create the CP-SAT model\n",
        "    model = cp_model.CpModel()\n",
        "\n",
        "    # Create variables\n",
        "    selected_flights = [model.NewBoolVar(f'flight_{i}') for i in range(num_flights)]\n",
        "\n",
        "    # Add constraint: at least one flight selected\n",
        "    model.Add(sum(selected_flights) >= 1)\n",
        "\n",
        "    # Add constraint: total duration should be less than or equal to 10\n",
        "    total_duration = sum(selected_flights[i] * durations[i] for i in range(num_flights))\n",
        "    model.Add(total_duration <= 10)\n",
        "\n",
        "    objective = sum(selected_flights[i] * prices[i] for i in range(num_flights))\n",
        "    model.Minimize(objective)\n",
        "\n",
        "    # Create a solver and solve the model\n",
        "    solver = cp_model.CpSolver()\n",
        "    status = solver.Solve(model)\n",
        "\n",
        "    if status == cp_model.OPTIMAL:\n",
        "        selected_flight_indices = [i for i in range(num_flights) if solver.Value(selected_flights[i]) == 1]\n",
        "        total_price = sum(prices[i] for i in selected_flight_indices)\n",
        "        cheapest_ticket = {f'flight_{i}': solver.Value(selected_flights[i]) for i in range(num_flights)}\n",
        "\n",
        "        print(\"Selected flights:\", selected_flight_indices)\n",
        "        print(\"Cheapest price:\", total_price)\n",
        "        print(\"Cheapest ticket:\", cheapest_ticket)\n",
        "    else:\n",
        "        print(\"No solution found.\")\n",
        "\n",
        "\n",
        "# Example usage\n",
        "prices = [100, 200, 150, 300, 250]\n",
        "durations = [2, 3, 2, 4, 3]\n",
        "\n",
        "find_cheap_flights(prices, durations)\n",
        "\n",
        "\n",
        "\n",
        "\n",
        "\n",
        "\n"
      ],
      "metadata": {
        "colab": {
          "base_uri": "https://localhost:8080/"
        },
        "id": "yuzx_2r6p-NV",
        "outputId": "9156d167-64df-49ae-b3e4-ac5174e1502d"
      },
      "execution_count": 2,
      "outputs": [
        {
          "output_type": "stream",
          "name": "stdout",
          "text": [
            "Selected flights: [0]\n",
            "Cheapest price: 100\n",
            "Cheapest ticket: {'flight_0': 1, 'flight_1': 0, 'flight_2': 0, 'flight_3': 0, 'flight_4': 0}\n"
          ]
        }
      ]
    }
  ]
}